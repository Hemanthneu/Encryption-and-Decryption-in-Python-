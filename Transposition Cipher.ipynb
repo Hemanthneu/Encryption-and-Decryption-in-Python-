{
 "cells": [
  {
   "cell_type": "markdown",
   "id": "fc1b63ae",
   "metadata": {},
   "source": [
    "# Create the TranspositionCipher class"
   ]
  },
  {
   "cell_type": "code",
   "execution_count": null,
   "id": "24484932",
   "metadata": {},
   "outputs": [],
   "source": [
    "class TranspositionCipher(object): \n",
    "        \n",
    "    def __init__(self, key):\n",
    "        pass\n",
    "        \n",
    "    def encrypt_message(self, message):\n",
    "        pass\n",
    "    \n",
    "    def decrypt_message(self, message):\n",
    "        pass"
   ]
  },
  {
   "cell_type": "markdown",
   "id": "addc9042",
   "metadata": {},
   "source": [
    "# Test the code by encrypting and decrypting a message"
   ]
  },
  {
   "cell_type": "code",
   "execution_count": null,
   "id": "8c8f8aa3",
   "metadata": {},
   "outputs": [],
   "source": []
  },
  {
   "cell_type": "markdown",
   "id": "2c4e8503",
   "metadata": {},
   "source": [
    "# Hack the transposition cipher (optional)"
   ]
  },
  {
   "cell_type": "code",
   "execution_count": null,
   "id": "54134ab4",
   "metadata": {},
   "outputs": [],
   "source": [
    "def hack_cipher(message_enc):\n",
    "    pass"
   ]
  }
 ],
 "metadata": {
  "kernelspec": {
   "display_name": "Python 3 (ipykernel)",
   "language": "python",
   "name": "python3"
  },
  "language_info": {
   "codemirror_mode": {
    "name": "ipython",
    "version": 3
   },
   "file_extension": ".py",
   "mimetype": "text/x-python",
   "name": "python",
   "nbconvert_exporter": "python",
   "pygments_lexer": "ipython3",
   "version": "3.8.8"
  }
 },
 "nbformat": 4,
 "nbformat_minor": 5
}
